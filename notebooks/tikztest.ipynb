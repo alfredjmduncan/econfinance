{
 "cells": [
  {
   "cell_type": "code",
   "execution_count": null,
   "metadata": {},
   "outputs": [],
   "source": [
    "using TikzGraphs\n",
    "using LightGraphs\n",
    "g = DiGraph(7)\n",
    "add_edge!(g, 1, 2)\n",
    "add_edge!(g, 1, 3)\n",
    "add_edge!(g, 2, 4)\n",
    "add_edge!(g, 7, 3)\n",
    "add_edge!(g, 1, 6)\n",
    "add_edge!(g, 5, 6)\n",
    "TikzGraphs.plot(g)"
   ]
  },
  {
   "cell_type": "code",
   "execution_count": null,
   "metadata": {},
   "outputs": [],
   "source": []
  }
 ],
 "metadata": {
  "kernelspec": {
   "display_name": "Julia 1.1.0",
   "language": "julia",
   "name": "julia-1.1"
  },
  "language_info": {
   "file_extension": ".jl",
   "mimetype": "application/julia",
   "name": "julia",
   "version": "1.1.0"
  }
 },
 "nbformat": 4,
 "nbformat_minor": 2
}
